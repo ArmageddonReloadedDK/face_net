{
 "cells": [
  {
   "cell_type": "code",
   "execution_count": 1,
   "metadata": {
    "pycharm": {
     "is_executing": false
    }
   },
   "outputs": [],
   "source": [
    "from skimage import io\n",
    "import dlib\n",
    "import numpy as np\n",
    "\n",
    "import os\n",
    "import re\n",
    "import skimage.transform as tr\n",
    "from PIL import Image,ImageDraw"
   ]
  },
  {
   "cell_type": "markdown",
   "metadata": {},
   "source": [
    "# Подготовка"
   ]
  },
  {
   "cell_type": "markdown",
   "metadata": {},
   "source": [
    "### Считывание массива ключевых точек лица"
   ]
  },
  {
   "cell_type": "code",
   "execution_count": 2,
   "metadata": {
    "pycharm": {
     "is_executing": false
    }
   },
   "outputs": [],
   "source": [
    "face_template=np.load('face_template.npy')"
   ]
  },
  {
   "cell_type": "markdown",
   "metadata": {},
   "source": [
    "### Считывание фотографии себя"
   ]
  },
  {
   "cell_type": "code",
   "execution_count": 3,
   "metadata": {
    "pycharm": {
     "is_executing": false
    }
   },
   "outputs": [
    {
     "name": "stdout",
     "text": [
      "[(291, 242) (513, 464)]\n"
     ],
     "output_type": "stream"
    }
   ],
   "source": [
    "#base_dir = os.path.dirname(os.path.dirname(os.path.abspath(__file__)))\n",
    "#path_me=os.path.join(base_dir, \"face_net_mkr\\me_and_dots\")\n",
    "path_me=\"../face_net_mkr/me_and_dots/me.jpg\"\n",
    "\n",
    "image=io.imread(path_me)\n",
    "detector=dlib.get_frontal_face_detector()\n",
    "face_rects=list(detector(image,1))\n",
    "face_rect=face_rects[0]\n",
    "print(face_rect)\n"
   ]
  },
  {
   "cell_type": "markdown",
   "metadata": {},
   "source": [
    "### Считываем обученную модель предиктора для сегментации"
   ]
  },
  {
   "cell_type": "code",
   "execution_count": 4,
   "metadata": {
    "pycharm": {
     "is_executing": false
    }
   },
   "outputs": [],
   "source": [
    "dlib_predictor_path=\"../face_net_mkr/shape_predictor_68_face_landmarks.dat\"\n",
    "predictor = dlib.shape_predictor(dlib_predictor_path)\n",
    "points = predictor(image, face_rect)\n",
    "landmarks = np.array(list(map(lambda p: [p.x, p.y], points.parts())))"
   ]
  },
  {
   "cell_type": "markdown",
   "metadata": {},
   "source": [
    "### Создание все точек контура лица на изображении"
   ]
  },
  {
   "cell_type": "code",
   "execution_count": 5,
   "metadata": {
    "pycharm": {
     "is_executing": false
    }
   },
   "outputs": [],
   "source": [
    "photo=Image.open(path_me)\n",
    "pix=photo.load()\n",
    "draw=ImageDraw.Draw(photo)\n",
    "N=2\n",
    "\n",
    "for point in landmarks:\n",
    "\n",
    "    draw.ellipse(((point[0]-N,point[1]-N),(point[0]+N,point[1]+N)),fill=(0,139,139))\n",
    "photo.save('res4.jpg','JPEG')\n"
   ]
  },
  {
   "cell_type": "markdown",
   "metadata": {},
   "source": [
    "### Выбор главных 3х точек"
   ]
  },
  {
   "cell_type": "code",
   "execution_count": 6,
   "metadata": {
    "pycharm": {
     "is_executing": false
    }
   },
   "outputs": [],
   "source": [
    "INNER_EYES_AND_BOTTOM_LIP = [39, 42, 57]\n",
    "proper_landmarks = 227 * face_template[INNER_EYES_AND_BOTTOM_LIP]\n",
    "current_landmarks = landmarks[INNER_EYES_AND_BOTTOM_LIP]"
   ]
  },
  {
   "cell_type": "markdown",
   "metadata": {},
   "source": [
    "### Создание 3 главных точек"
   ]
  },
  {
   "cell_type": "code",
   "execution_count": 7,
   "metadata": {
    "pycharm": {
     "is_executing": false
    }
   },
   "outputs": [],
   "source": [
    "photo=Image.open(path_me)\n",
    "pix=photo.load()\n",
    "draw=ImageDraw.Draw(photo)\n",
    "for point in current_landmarks:\n",
    "\n",
    "    draw.ellipse(((point[0]-N,point[1]-N),(point[0]+N,point[1]+N)),fill=(255,0,0))\n",
    "photo.save('res20.jpg','JPEG')\n"
   ]
  },
  {
   "cell_type": "markdown",
   "metadata": {},
   "source": [
    "## Создадим функцию, в которой совмещены все вышеперечисленные методы обработки и также обрезка фотографий с помощью аффиного отображения\n"
   ]
  },
  {
   "cell_type": "code",
   "execution_count": 8,
   "metadata": {
    "pycharm": {
     "is_executing": false
    }
   },
   "outputs": [],
   "source": [
    "\n",
    "def make_photo(path):\n",
    "\n",
    "    files_names=os.listdir(path)\n",
    "    folder_names=list(set([ name[:4] for name in files_names]))\n",
    "\n",
    "    os.mkdir('dataset')\n",
    "    for i,name in enumerate(folder_names):\n",
    "        os.mkdir('dataset/'+str(i))\n",
    "    size=128\n",
    "        \n",
    "    face_template=np.load('face_template.npy')\n",
    "    predictor=dlib.shape_predictor('shape_predictor_68_face_landmarks.dat')\n",
    "    detector=dlib.get_frontal_face_detector()\n",
    "    INNER_EYES_AND_BOTTOM_LIP = [39, 42, 57]\n",
    "    \n",
    "    for name in files_names:\n",
    "      image=io.imread(path+'/'+name)\n",
    "      \n",
    "      face_rects=list(detector(image,1))\n",
    "      try:\n",
    "        face_rect=face_rects[0]\n",
    "    \n",
    "        points=predictor(image,face_rect)\n",
    "        landmarks=np.array(list(map(lambda p: [p.x,p.y],points.parts())))\n",
    "    \n",
    "        proper_landmarks=size*face_template[INNER_EYES_AND_BOTTOM_LIP]\n",
    "        current_landmarks = landmarks[INNER_EYES_AND_BOTTOM_LIP]\n",
    "    \n",
    "        A = np.hstack([current_landmarks, np.ones((3, 1))]).astype(np.float64)\n",
    "        B = np.hstack([proper_landmarks, np.ones((3, 1))]).astype(np.float64)\n",
    "        T = np.linalg.solve(A, B).T\n",
    "    \n",
    "        wrapped = tr.warp(\n",
    "        image,\n",
    "        tr.AffineTransform(T).inverse,\n",
    "        output_shape=(size, size),\n",
    "        mode='constant',\n",
    "        cval=0,\n",
    "        preserve_range=True\n",
    "        )\n",
    "        im = Image.fromarray(wrapped.astype(np.uint8))\n",
    "        way=name[:4]\n",
    "\n",
    "        namel=name[6:10]\n",
    "        im.save('dataset/'+str(folder_names.index(way))+'/'+str(namel)+'.jpg')\n",
    "      except Exception:\n",
    "        pass"
   ]
  },
  {
   "cell_type": "code",
   "execution_count": 9,
   "metadata": {
    "pycharm": {
     "name": "#%%\n",
     "is_executing": false
    }
   },
   "outputs": [
    {
     "traceback": [
      "\u001b[1;31m---------------------------------------------------------------------------\u001b[0m",
      "\u001b[1;31mFileExistsError\u001b[0m                           Traceback (most recent call last)",
      "\u001b[1;32m<ipython-input-9-5007d00d4305>\u001b[0m in \u001b[0;36m<module>\u001b[1;34m\u001b[0m\n\u001b[1;32m----> 1\u001b[1;33m \u001b[0mmake_photo\u001b[0m\u001b[1;33m(\u001b[0m\u001b[1;34m'photo'\u001b[0m\u001b[1;33m)\u001b[0m\u001b[1;33m\u001b[0m\u001b[1;33m\u001b[0m\u001b[0m\n\u001b[0m\u001b[0;32m      2\u001b[0m \u001b[1;33m\u001b[0m\u001b[0m\n\u001b[0;32m      3\u001b[0m \u001b[1;33m\u001b[0m\u001b[0m\n",
      "\u001b[1;32m<ipython-input-8-180438a59433>\u001b[0m in \u001b[0;36mmake_photo\u001b[1;34m(path)\u001b[0m\n\u001b[0;32m      4\u001b[0m     \u001b[0mfolder_names\u001b[0m\u001b[1;33m=\u001b[0m\u001b[0mlist\u001b[0m\u001b[1;33m(\u001b[0m\u001b[0mset\u001b[0m\u001b[1;33m(\u001b[0m\u001b[1;33m[\u001b[0m \u001b[0mname\u001b[0m\u001b[1;33m[\u001b[0m\u001b[1;33m:\u001b[0m\u001b[1;36m4\u001b[0m\u001b[1;33m]\u001b[0m \u001b[1;32mfor\u001b[0m \u001b[0mname\u001b[0m \u001b[1;32min\u001b[0m \u001b[0mfiles_names\u001b[0m\u001b[1;33m]\u001b[0m\u001b[1;33m)\u001b[0m\u001b[1;33m)\u001b[0m\u001b[1;33m\u001b[0m\u001b[1;33m\u001b[0m\u001b[0m\n\u001b[0;32m      5\u001b[0m \u001b[1;33m\u001b[0m\u001b[0m\n\u001b[1;32m----> 6\u001b[1;33m     \u001b[0mos\u001b[0m\u001b[1;33m.\u001b[0m\u001b[0mmkdir\u001b[0m\u001b[1;33m(\u001b[0m\u001b[1;34m'dataset'\u001b[0m\u001b[1;33m)\u001b[0m\u001b[1;33m\u001b[0m\u001b[1;33m\u001b[0m\u001b[0m\n\u001b[0m\u001b[0;32m      7\u001b[0m     \u001b[1;32mfor\u001b[0m \u001b[0mi\u001b[0m\u001b[1;33m,\u001b[0m\u001b[0mname\u001b[0m \u001b[1;32min\u001b[0m \u001b[0menumerate\u001b[0m\u001b[1;33m(\u001b[0m\u001b[0mfolder_names\u001b[0m\u001b[1;33m)\u001b[0m\u001b[1;33m:\u001b[0m\u001b[1;33m\u001b[0m\u001b[1;33m\u001b[0m\u001b[0m\n\u001b[0;32m      8\u001b[0m         \u001b[0mos\u001b[0m\u001b[1;33m.\u001b[0m\u001b[0mmkdir\u001b[0m\u001b[1;33m(\u001b[0m\u001b[1;34m'dataset/'\u001b[0m\u001b[1;33m+\u001b[0m\u001b[0mstr\u001b[0m\u001b[1;33m(\u001b[0m\u001b[0mi\u001b[0m\u001b[1;33m)\u001b[0m\u001b[1;33m)\u001b[0m\u001b[1;33m\u001b[0m\u001b[1;33m\u001b[0m\u001b[0m\n",
      "\u001b[1;31mFileExistsError\u001b[0m: [WinError 183] Невозможно создать файл, так как он уже существует: 'dataset'"
     ],
     "ename": "FileExistsError",
     "evalue": "[WinError 183] Невозможно создать файл, так как он уже существует: 'dataset'",
     "output_type": "error"
    }
   ],
   "source": [
    "make_photo('photo')   \n",
    "  "
   ]
  },
  {
   "cell_type": "markdown",
   "metadata": {},
   "source": [
    "## Удалим тех людей в датасете, чье количество фотографий меньше порогового значения"
   ]
  },
  {
   "cell_type": "code",
   "execution_count": null,
   "metadata": {
    "pycharm": {
     "is_executing": false
    }
   },
   "outputs": [],
   "source": [
    "path='dataset'\n",
    "N=11\n",
    "files_names=os.listdir(path)\n",
    "folder_names=list(set([ name[:4] for name in files_names]))\n",
    "for i in folder_names:\n",
    "    if len(os.listdir(path+'/'+str(i)))<N:\n",
    "        for j in os.listdir(path+'/'+str(i)):\n",
    "            os.remove(path+'/'+str(i)+'/'+j)\n",
    "        os.rmdir(path+'/'+str(i))\n"
   ]
  },
  {
   "cell_type": "code",
   "execution_count": null,
   "metadata": {
    "pycharm": {
     "is_executing": false
    }
   },
   "outputs": [],
   "source": []
  }
 ],
 "metadata": {
  "kernelspec": {
   "display_name": "PyCharm (face_net_mkr)",
   "language": "python",
   "name": "pycharm-fd7ee754"
  },
  "language_info": {
   "codemirror_mode": {
    "name": "ipython",
    "version": 3
   },
   "file_extension": ".py",
   "mimetype": "text/x-python",
   "name": "python",
   "nbconvert_exporter": "python",
   "pygments_lexer": "ipython3",
   "version": "3.6.10"
  },
  "pycharm": {
   "stem_cell": {
    "cell_type": "raw",
    "source": [],
    "metadata": {
     "collapsed": false
    }
   }
  }
 },
 "nbformat": 4,
 "nbformat_minor": 4
}